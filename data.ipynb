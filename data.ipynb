{
 "cells": [
  {
   "cell_type": "code",
   "execution_count": null,
   "metadata": {},
   "outputs": [],
   "source": [
    "#stock data for discord bot to send to user\n",
    "\n",
    "import yfinance as yf\n",
    "import pandas as pd\n",
    "import seaborn as sns\n",
    "import matplotlib.pyplot as plt\n",
    "\n",
    "cryptocurrencies = [\"BTC-USD\", \"ETH-USD\",\"BNB-USD\", \"XRP-USD\",\"USDT-USD\" ]\n",
    "crydata = yf.download(cryptocurrencies, start = '2021-12-31', end = '2022-06-21')\n",
    "\n",
    "crydata.head()\n",
    "cry_adjClose = crydata['Adj Close']\n",
    "cry_adjClose.head()\n",
    "\n",
    "\n",
    "\n",
    "fig, axis = plt.subplots( 2,3, figsize = (16,8), gridspec_kw= {'hspace':0.2, 'wspace': 0.2})\n",
    "axis[0,0].plot(cry_adjClose['BNB-USD'])\n",
    "axis[0,0].set_title('BNB')\n",
    "\n",
    "axis[0,1].plot(cry_adjClose['BTC-USD'])\n",
    "axis[0,1].set_title('BTC')\n",
    "\n",
    "axis[0,2].plot(cry_adjClose['ETH-USD'])\n",
    "axis[0,2].set_title('ETH')\n",
    "\n",
    "axis[1,0].plot(cry_adjClose['USDT-USD'])\n",
    "axis[1,0].set_title('USDT')\n",
    "\n",
    "axis[1,1].plot(cry_adjClose['XRP-USD'])\n",
    "axis[1,1].set_title('XRP')\n",
    "overview = plt.show\n",
    "plt.savefig(\"overview.jpg\")"
   ]
  },
  {
   "cell_type": "code",
   "execution_count": null,
   "metadata": {},
   "outputs": [],
   "source": [
    "from datetime import datetime\n",
    "import yfinance as yf\n",
    "import matplotlib.pyplot as plt\n",
    "\n",
    "now = datetime.now()\n",
    "removeYear = now.year - 10\n",
    "current_date = datetime.today().strftime('%Y-%m-%d')\n",
    "date_arr = current_date.split('-')\n",
    "past = str(removeYear) + '-' + date_arr[1] + '-' + date_arr[2]\n",
    "\n",
    "crypto = ['BTC-USD', 'BNB-USD']\n",
    "crydata1 = yf.download(crypto, start = past, end = now)\n",
    "cry_adjclose = crydata1['Adj Close']\n",
    "\n",
    "plt.plot(cry_adjclose['BTC-USD'])\n"
   ]
  }
 ],
 "metadata": {
  "language_info": {
   "name": "python"
  },
  "orig_nbformat": 4
 },
 "nbformat": 4,
 "nbformat_minor": 2
}
